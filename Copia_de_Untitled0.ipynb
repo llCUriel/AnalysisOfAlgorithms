{
  "nbformat": 4,
  "nbformat_minor": 0,
  "metadata": {
    "colab": {
      "name": "Copia de Untitled0.ipynb",
      "provenance": [],
      "collapsed_sections": [],
      "authorship_tag": "ABX9TyOYvkwTeOpIHO3GPUDdqowi",
      "include_colab_link": true
    },
    "kernelspec": {
      "name": "python3",
      "display_name": "Python 3"
    }
  },
  "cells": [
    {
      "cell_type": "markdown",
      "metadata": {
        "id": "view-in-github",
        "colab_type": "text"
      },
      "source": [
        "<a href=\"https://colab.research.google.com/github/llCUriel/AnalysisOfAlgorithms/blob/master/Copia_de_Untitled0.ipynb\" target=\"_parent\"><img src=\"https://colab.research.google.com/assets/colab-badge.svg\" alt=\"Open In Colab\"/></a>"
      ]
    },
    {
      "cell_type": "code",
      "metadata": {
        "id": "zhRQy6-J0uYb",
        "colab_type": "code",
        "outputId": "97ccf8e4-edd3-4482-b1ad-b0b8c96a8e28",
        "colab": {
          "base_uri": "https://localhost:8080/",
          "height": 173
        }
      },
      "source": [
        "import random\n",
        "\n",
        "#LEA specifications\n",
        "plainText = \"Aliquam ullamcorper, ipsum ut sagittis venenatis, massa felis lobortis enim, ac mollis ante ex vel ex.\"\n",
        "KeyL = 128\n",
        "Key = random.getrandbits(KeyL)\n",
        "#\n",
        "\n",
        "# Other constants\n",
        "KeyPartitionsL = 32\n",
        "roundsFactor = 6\n",
        "#\n",
        "\n",
        "\n",
        "numberOfKeyPartitions = int(KeyL/KeyPartitionsL)\n",
        "# Calculating number of key partitions # K=(K[0],...,K[3]) wh 128 , K=(K[0],...,K[5]) wh 192, K=(K[0],...,K[7])  wh 256 #\n",
        "\n",
        "r =  24 if KeyL == 128 else 28 if KeyL == 192 else 32 \n",
        "# Determining number of rounds #\n",
        "\n",
        "RK = []\n",
        "\n",
        "# Concatenation of all round keys defined by RK =(Rk0,Rk1,...,Rkr-1) wh each RKi is the 192-bit round key for the i-th round\n",
        "# Each RKi consistens of six 32-bit words RKi = (Rki[0],RKi[1],...,RKi[5])\n",
        "# RK = [ (Rk0[0],RK0[1],...,RK0[5]) , (Rk1[0],RK1[1],...,RK1[5]), ..., (Rkr-1[0],RKr-1[1],...,RKr-1[5]) ]\n",
        "\n",
        "strToBits = lambda str   : ''.join(format(ord(i), 'b') for i in str)\n",
        "intToBits = lambda myInt : \"{0:b}\".format(myInt)\n",
        "\n",
        "deltaConstants = [0xc3efe9db,\n",
        "                  0x79e27c8a,\n",
        "                  0x715ea49e,\n",
        "                  0xe04ef22a,\n",
        "                  0x44626b02,\n",
        "                  0x78df30ec,\n",
        "                  0xc785da04,\n",
        "                  0xe5c40957]\n",
        "\n",
        "def runKeySchedule():\n",
        "  T = []\n",
        "  for i in range(numberOfKeyPartitions):\n",
        "    print(i)\n",
        "  return 0\n",
        "\n",
        "def runApp():\n",
        "  runKeySchedule()\n",
        "  print(\"PlainText: \"+strToBits(plainText))\n",
        "  print(\"KeyL: \"+str(KeyL))\n",
        "  print(\"MasterKey: \"+intToBits(Key))\n",
        "  print(\"NumberOfRounds: \"+str(r))\n",
        "\n",
        "runApp()"
      ],
      "execution_count": 37,
      "outputs": [
        {
          "output_type": "stream",
          "text": [
            "0\n",
            "1\n",
            "2\n",
            "3\n",
            "PlainText: 10000011101100110100111100011110101110000111011011000001110101110110011011001100001110110111000111101111111001011100001100101111001010110010000011010011110000111001111101011101101100000111010111101001000001110011110000111001111101001111010011101001101001111001110000011101101100101110111011001011101110110000111101001101001111001110110010000011011011100001111001111100111100001100000110011011001011101100110100111100111000001101100110111111000101101111111001011101001101001111001110000011001011101110110100111011011011001000001100001110001110000011011011101111110110011011001101001111001110000011000011101110111010011001011000001100101111100010000011101101100101110110010000011001011111000101110\n",
            "KeyL: 128\n",
            "MasterKey: 11111101110011011111111101101110100010101010100000000000011010101011010110110001000000111101000101101011000100011110000010111011\n",
            "NumberOfRounds: 24\n"
          ],
          "name": "stdout"
        }
      ]
    },
    {
      "cell_type": "markdown",
      "metadata": {
        "id": "l_yxWKH3kwCw",
        "colab_type": "text"
      },
      "source": [
        ""
      ]
    }
  ]
}